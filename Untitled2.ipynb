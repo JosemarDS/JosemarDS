{
  "nbformat": 4,
  "nbformat_minor": 0,
  "metadata": {
    "colab": {
      "provenance": [],
      "authorship_tag": "ABX9TyMCzI3zaUubPIdRERkkrYFV",
      "include_colab_link": true
    },
    "kernelspec": {
      "name": "python3",
      "display_name": "Python 3"
    },
    "language_info": {
      "name": "python"
    }
  },
  "cells": [
    {
      "cell_type": "markdown",
      "metadata": {
        "id": "view-in-github",
        "colab_type": "text"
      },
      "source": [
        "<a href=\"https://colab.research.google.com/github/JosemarDS/JosemarDS/blob/main/Untitled2.ipynb\" target=\"_parent\"><img src=\"https://colab.research.google.com/assets/colab-badge.svg\" alt=\"Open In Colab\"/></a>"
      ]
    },
    {
      "cell_type": "code",
      "execution_count": 4,
      "metadata": {
        "colab": {
          "base_uri": "https://localhost:8080/"
        },
        "id": "4PYfcq7mwErf",
        "outputId": "a77dbe24-c4b2-4f2e-d6a3-a68a774d5129"
      },
      "outputs": [
        {
          "output_type": "stream",
          "name": "stdout",
          "text": [
            "digite sua idade17\n",
            "voce não pode votar\n"
          ]
        }
      ],
      "source": [
        "age = int(input('digite sua idade'))\n",
        "\n",
        "if age >=18 and age <=65:\n",
        "  print('voce pode votar')\n",
        "else:\n",
        "  print('voce não pode votar')"
      ]
    },
    {
      "cell_type": "code",
      "source": [],
      "metadata": {
        "id": "2gENtHl0MCKP"
      },
      "execution_count": null,
      "outputs": []
    }
  ]
}