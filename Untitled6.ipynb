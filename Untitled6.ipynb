{
  "nbformat": 4,
  "nbformat_minor": 0,
  "metadata": {
    "colab": {
      "provenance": [],
      "authorship_tag": "ABX9TyNG0QWo4tAqk9ravNa2RLHz",
      "include_colab_link": true
    },
    "kernelspec": {
      "name": "python3",
      "display_name": "Python 3"
    },
    "language_info": {
      "name": "python"
    }
  },
  "cells": [
    {
      "cell_type": "markdown",
      "metadata": {
        "id": "view-in-github",
        "colab_type": "text"
      },
      "source": [
        "<a href=\"https://colab.research.google.com/github/JosemarDS/JosemarDS/blob/main/Untitled6.ipynb\" target=\"_parent\"><img src=\"https://colab.research.google.com/assets/colab-badge.svg\" alt=\"Open In Colab\"/></a>"
      ]
    },
    {
      "cell_type": "code",
      "execution_count": 17,
      "metadata": {
        "colab": {
          "base_uri": "https://localhost:8080/"
        },
        "id": "N_3--fgKmhTl",
        "outputId": "77503427-fb62-463d-a5a8-6681d6675a8b"
      },
      "outputs": [
        {
          "output_type": "stream",
          "name": "stdout",
          "text": [
            "digite um numero: -1\n",
            "Número negativo.\n"
          ]
        }
      ],
      "source": [
        "numero = int(input(\"digite um numero: \"))\n",
        "if numero > 0:\n",
        "  print('Número positivo.')\n",
        "elif numero == 0:\n",
        "  print('Número é zero.')\n",
        "else:\n",
        "  print('Número negativo.')\n",
        "\n",
        "\n",
        "\n",
        "\n"
      ]
    }
  ]
}