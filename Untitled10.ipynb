{
  "nbformat": 4,
  "nbformat_minor": 0,
  "metadata": {
    "colab": {
      "provenance": [],
      "authorship_tag": "ABX9TyPRFkRzVpwJYLow5Su1UcUE",
      "include_colab_link": true
    },
    "kernelspec": {
      "name": "python3",
      "display_name": "Python 3"
    },
    "language_info": {
      "name": "python"
    }
  },
  "cells": [
    {
      "cell_type": "markdown",
      "metadata": {
        "id": "view-in-github",
        "colab_type": "text"
      },
      "source": [
        "<a href=\"https://colab.research.google.com/github/JosemarDS/JosemarDS/blob/main/Untitled10.ipynb\" target=\"_parent\"><img src=\"https://colab.research.google.com/assets/colab-badge.svg\" alt=\"Open In Colab\"/></a>"
      ]
    },
    {
      "cell_type": "code",
      "source": [
        "# 1- Crie uma lista chamada numeros que contenha os números inteiros de 1 a 5 e imprima-a na tela:\n",
        "numeros = [1, 2, 3, 4, 5] #lista simples\n",
        "print(numeros)\n",
        "\n",
        "# 2- Acesse e imprima o terceiro elemento da lista numeros:\n",
        "terceiro_elemento = numeros[3]\n",
        "print(terceiro_elemento)\n",
        "\n",
        "# 3- Adicione o número 6 à lista numeros e imprima a lista atualizada:\n",
        "numeros.append(6) # .append() adiciona elementos\n",
        "print(numeros)\n",
        "\n",
        "# 4- Remova o número 3 da lista numeros e imprima a lista resultante:\n",
        "numeros.remove(3)#remove o elemento desejado(direto) da lista\n",
        "print(numeros)\n",
        "del numeros[3] #deleta o elemento por meio da sua posição \"índece\"\n",
        "print(numeros)\n",
        "\n",
        "# 5- Crie uma lista chamada `frutas` contendo três nomes de frutas diferentes.\n",
        "#    Em seguida, concatene essa lista com a lista `numeros` e imprima o resultado:\n",
        "frutas = ['manga', 'banana', 'morango'] #forma correta de escrever listas com carateres(palavras): [] e \" \", sendo [\"xxx\", \"xxx\", \"xxx\"]\n",
        "print(frutas, numeros)\n",
        "\n",
        "# 6- Use um loop for para percorrer e imprimir todos os elementos da lista frutas:\n",
        "for n in frutas:\n",
        "  print(n)\n",
        "\n",
        "# 7- Verifique se o número 5 está presente na lista `numeros` e imprima\n",
        "#    uma mensagem informando se ele está na lista ou não:\n",
        "\n",
        "n1 = [1, 3, 6, 5, 25, 16]\n",
        "print('O número', n1[3], 'está presente na lista.'  )"
      ],
      "metadata": {
        "colab": {
          "base_uri": "https://localhost:8080/"
        },
        "id": "LM_Z-PXMv7KD",
        "outputId": "5f749d13-c3f7-46b7-cc65-e780555ac993"
      },
      "execution_count": 21,
      "outputs": [
        {
          "output_type": "stream",
          "name": "stdout",
          "text": [
            "[1, 2, 3, 4, 5]\n",
            "4\n",
            "[1, 2, 3, 4, 5, 6]\n",
            "[1, 2, 4, 5, 6]\n",
            "[1, 2, 4, 6]\n",
            "['manga', 'banana', 'morango'] [1, 2, 4, 6]\n",
            "manga\n",
            "banana\n",
            "morango\n",
            "O número 5 está presente na lista.\n"
          ]
        }
      ]
    }
  ]
}