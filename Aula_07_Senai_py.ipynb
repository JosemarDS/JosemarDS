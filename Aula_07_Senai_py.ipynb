{
  "nbformat": 4,
  "nbformat_minor": 0,
  "metadata": {
    "colab": {
      "provenance": [],
      "authorship_tag": "ABX9TyMjpE3cr5UB1hCfY1JwhaHQ",
      "include_colab_link": true
    },
    "kernelspec": {
      "name": "python3",
      "display_name": "Python 3"
    },
    "language_info": {
      "name": "python"
    }
  },
  "cells": [
    {
      "cell_type": "markdown",
      "metadata": {
        "id": "view-in-github",
        "colab_type": "text"
      },
      "source": [
        "<a href=\"https://colab.research.google.com/github/JosemarDS/JosemarDS/blob/main/Aula_07_Senai_py.ipynb\" target=\"_parent\"><img src=\"https://colab.research.google.com/assets/colab-badge.svg\" alt=\"Open In Colab\"/></a>"
      ]
    },
    {
      "cell_type": "code",
      "execution_count": 14,
      "metadata": {
        "colab": {
          "base_uri": "https://localhost:8080/"
        },
        "id": "YjUa7Dd6bdkc",
        "outputId": "23793522-698a-4a96-d4e5-d706e2390d22"
      },
      "outputs": [
        {
          "output_type": "stream",
          "name": "stdout",
          "text": [
            "Olá,\n",
            "Mundo!\n",
            "Menor que 3\n",
            "Menor que 3\n",
            "Menor que 3\n",
            "Igual ou maior que 3\n",
            "Igual ou maior que 3\n"
          ]
        }
      ],
      "source": [
        "#### INDENTAÇÃO EM PYTHON:\n",
        "#A indentação em Python é um conceito fundamental e uma parte essencial da sintaxe da linguagem.\n",
        "#Em Python, a indentação é usada para definir blocos de código e determinar a estrutura do programa.\n",
        "#1. **Definindo Blocos de Código:**\n",
        "    #- Em Python, os blocos de código são definidos pela indentação, ou seja, pelo espaçamento no início de uma linha.\n",
        "    #- A indentação é usada para indicar que um conjunto de instruções pertence a um determinado bloco, como uma função, um loop ou uma estrutura condicional.\n",
        "#2. **Espaçamento Consistente:**\n",
        "    #- Python é bastante rigoroso quanto à consistência na indentação. Você deve usar o mesmo número de espaços ou tabulações em todo o seu código para representar blocos de código aninhados.\n",
        "    #- A maioria dos desenvolvedores Python utiliza espaços em vez de tabulações para garantir consistência, pois diferentes editores de texto e IDEs podem interpretar as tabulações de maneira diferente.\n",
        "#Exemplo de Indentação:\n",
        "def saudacao():\n",
        "    print(\"Olá,\")\n",
        "    print(\"Mundo!\")\n",
        "saudacao()\n",
        "\n",
        "for i in range(5):\n",
        "    if i < 3:\n",
        "        print(\"Menor que 3\")\n",
        "    else:\n",
        "        print(\"Igual ou maior que 3\")\n",
        "\n"
      ]
    },
    {
      "cell_type": "code",
      "source": [
        "## ESTRUTURAS DE REPETIÇÃO\n",
        "\n",
        "# FOR E WHILE\n",
        "\n",
        "#As estruturas de repetição, também conhecidas como loops, são elementos cruciais na programação, permitindo que um conjunto de instruções seja executado repetidamente com base em uma condição específica.\n",
        "#Em Python, uma linguagem de programação amplamente utilizada em diversas áreas, as estruturas de repetição são uma parte fundamental da sua sintaxe e são frequentemente empregadas para automatizar tarefas,\n",
        "#processar dados, e resolver problemas complexos de maneira eficiente.\n",
        "#Neste texto, exploraremos as principais estruturas de repetição em Python, como o loop \"for\" e o loop \"while\", e discutiremos como eles são usados para criar programas mais dinâmicos e flexíveis.\n",
        "#Vamos mergulhar no mundo das estruturas de repetição em Python e descobrir como elas podem ser uma ferramenta poderosa para desenvolvedores que desejam criar software eficiente e eficaz.\n",
        "\n",
        "## `SINTAXE DO LOOP FOR`\n",
        "\n",
        "# `FOR X IN RANGE():`\n",
        "# `FAÇA ISSO`\n",
        "\n",
        "#Em Python, o while é uma estrutura de repetição que permite executar um bloco de código repetidamente enquanto uma condição específica for verdadeira.\n",
        "#O código continuará a ser executado até que a condição seja avaliada como falsa. É importante garantir que a condição possa ser eventualmente falsa para evitar loops infinitos.\n",
        "\n",
        "#WHILE CONDIÇÃO:\n",
        "\n",
        "#Código a ser repetido enquanto a condição for verdadeira\n",
        " #Exemplo:\n",
        "contador = 1\n",
        "while contador <= 5:\n",
        "        print('contador:', contador)\n",
        "        contador += 1"
      ],
      "metadata": {
        "colab": {
          "base_uri": "https://localhost:8080/"
        },
        "id": "ovtlPkrtf8IN",
        "outputId": "d1898109-999c-49b3-a23d-04af4d398e54"
      },
      "execution_count": 22,
      "outputs": [
        {
          "output_type": "stream",
          "name": "stdout",
          "text": [
            "contador: 1\n",
            "contador: 2\n",
            "contador: 3\n",
            "contador: 4\n",
            "contador: 5\n"
          ]
        }
      ]
    },
    {
      "cell_type": "code",
      "source": [
        "contador1 = 2\n",
        "while contador1 <= 15:\n",
        "  print('contador:', contador1)\n",
        "  contador1 +=3"
      ],
      "metadata": {
        "colab": {
          "base_uri": "https://localhost:8080/"
        },
        "id": "CbS9JeJeiVRq",
        "outputId": "32d3c6b3-d5cf-47d0-b2af-06ce58d94c9e"
      },
      "execution_count": 23,
      "outputs": [
        {
          "output_type": "stream",
          "name": "stdout",
          "text": [
            "contador: 2\n",
            "contador: 5\n",
            "contador: 8\n",
            "contador: 11\n",
            "contador: 14\n"
          ]
        }
      ]
    },
    {
      "cell_type": "code",
      "source": [
        "#Sistema de Senha:\n",
        "Senha_correta = \"123\"\n",
        "chances = 3\n",
        "while chances > 0:\n",
        "    Senha = input('Digite a Senha')\n",
        "    if Senha == Senha_correta:\n",
        "      print('Pode acessar')\n",
        "      break\n",
        "\n",
        "    else:\n",
        "      chances -= 1\n",
        "      print('Senha Errada')\n",
        "\n",
        "    if chances == 0:\n",
        "      print('Bloqueado')\n",
        ""
      ],
      "metadata": {
        "colab": {
          "base_uri": "https://localhost:8080/"
        },
        "id": "FsFDTVuniwVO",
        "outputId": "998dd5d7-000b-4917-9bec-377c3680ac2b"
      },
      "execution_count": 53,
      "outputs": [
        {
          "output_type": "stream",
          "name": "stdout",
          "text": [
            "Digite a Senha3\n",
            "Senha Errada\n",
            "Digite a Senha2\n",
            "Senha Errada\n",
            "Digite a Senha1\n",
            "Senha Errada\n",
            "Bloqueado\n"
          ]
        }
      ]
    },
    {
      "cell_type": "code",
      "source": [
        "#EXEMPLOS DA UTILIZAÇÃO DO WHILE:\n",
        "contador = 10\n",
        "\n",
        "while contador > 0:\n",
        "  print(contador)\n",
        "  contador -= 0\n",
        "  print(\"contagem\", contador)\n",
        "  break           #para parar.\n",
        "\n",
        "while contador > 0:\n",
        "    print(contador)\n",
        "    contador -= 1\n",
        "    print('contagem')\n",
        "\n",
        "\n",
        "\n"
      ],
      "metadata": {
        "colab": {
          "base_uri": "https://localhost:8080/"
        },
        "id": "zj_BIROqoEcO",
        "outputId": "7926b36c-fbfb-4c62-df4c-c5280fc35ad5"
      },
      "execution_count": 84,
      "outputs": [
        {
          "output_type": "stream",
          "name": "stdout",
          "text": [
            "10\n",
            "contagem 10\n",
            "10\n",
            "contagem\n",
            "9\n",
            "contagem\n",
            "8\n",
            "contagem\n",
            "7\n",
            "contagem\n",
            "6\n",
            "contagem\n",
            "5\n",
            "contagem\n",
            "4\n",
            "contagem\n",
            "3\n",
            "contagem\n",
            "2\n",
            "contagem\n",
            "1\n",
            "contagem\n"
          ]
        }
      ]
    },
    {
      "cell_type": "code",
      "source": [
        "#Exercícios:\n",
        "# 1 - Escreva um programa que exiba uma contagem regressiva de 10 a 1, e depois imprima \"Fogo!\"\n"
      ],
      "metadata": {
        "id": "d8uyAiSVqp0Q"
      },
      "execution_count": null,
      "outputs": []
    },
    {
      "cell_type": "code",
      "source": [
        "for cont in range(10, -1, -1):\n",
        "    print(cont)\n",
        "print('Fogo!')\n"
      ],
      "metadata": {
        "colab": {
          "base_uri": "https://localhost:8080/"
        },
        "id": "ULGVK5BaiSvA",
        "outputId": "902aa0e5-053e-4f13-af9e-de00892f93cb"
      },
      "execution_count": 143,
      "outputs": [
        {
          "output_type": "stream",
          "name": "stdout",
          "text": [
            "10\n",
            "9\n",
            "8\n",
            "7\n",
            "6\n",
            "5\n",
            "4\n",
            "3\n",
            "2\n",
            "1\n",
            "0\n",
            "Fogo!\n"
          ]
        }
      ]
    },
    {
      "cell_type": "code",
      "source": [
        "# 2 - Peça ao usuário que insira um número inteiro positivo e, em seguida,\n",
        "#     calcule a soma de todos os números pares de 2 até o número inserido.\n",
        "\n",
        "numero_positivo = input('insira um número inteiro positivo: ')\n"
      ],
      "metadata": {
        "colab": {
          "base_uri": "https://localhost:8080/"
        },
        "id": "N0UGG8374PTX",
        "outputId": "111e310c-3ad9-4777-d6e4-dd65779510ec"
      },
      "execution_count": 160,
      "outputs": [
        {
          "name": "stdout",
          "output_type": "stream",
          "text": [
            "insira um número inteiro positivo: 10\n"
          ]
        }
      ]
    },
    {
      "cell_type": "code",
      "source": [
        "#O método random() em Python não é um método, mas uma função da biblioteca random que gera\n",
        "#números de ponto flutuante aleatórios no intervalo de 0 (inclusivo) a 1 (exclusivo).\n",
        "#Aqui está como você pode usá-lo:\n",
        "\n",
        "\n",
        "import random\n",
        "\n",
        "numero_aleatorio = random.random()  #gera um número aleatório\n",
        "print(numero_aleatorio)\n",
        "\n",
        "numero_aleatorio = random.random() * 10   #o Valor aleatório multiplicará por 10\n",
        "print(numero_aleatorio)\n",
        "\n",
        "\n",
        "x = random.randint(1,25)            #gera um nº aleatório inteiro dentro de um intervalo\n",
        "print(x)\n",
        "\n",
        "x = random.randrange(1,30)          #gera um nº aleatório inteiro dentro de um intervalo\n",
        "print(x)\n",
        "\n",
        "#Jogo\n",
        "chute = int(input('digite um numero: '))\n",
        "xx = random.randint(1, 2)\n",
        "\n",
        "if chute == xx:\n",
        "  print('acertou em cheio', xx)\n",
        "else:\n",
        "  print(f'errou, o numero é{xx}')\n",
        "\n"
      ],
      "metadata": {
        "colab": {
          "base_uri": "https://localhost:8080/"
        },
        "id": "n0v8WYNn9NfG",
        "outputId": "d9ac672a-b679-4a5a-ce57-1e5ad539e00d"
      },
      "execution_count": 179,
      "outputs": [
        {
          "output_type": "stream",
          "name": "stdout",
          "text": [
            "0.8315827334260222\n",
            "0.09794256288661818\n",
            "20\n",
            "26\n",
            "digite um numero: 1\n",
            "errou, o numero é2\n"
          ]
        }
      ]
    },
    {
      "cell_type": "code",
      "source": [
        "## **Teste o Random:**\n",
        "\n",
        "\n",
        "\n",
        "\n",
        "\n",
        "\n",
        "#Crie um número aleatório de 10, 5\n",
        "\n",
        "import random\n",
        "x = random.randint(5,10)\n",
        "print(x)\n",
        "\n",
        "\n",
        "#Crie 3 números aleatórios\n",
        "\n",
        "\n",
        "#Crie um número aleatório entre 10 e 30 utilize o range()"
      ],
      "metadata": {
        "colab": {
          "base_uri": "https://localhost:8080/"
        },
        "id": "cr4tpY56_fPk",
        "outputId": "8978a4d3-d0c1-4830-df50-8c1f30cecd6b"
      },
      "execution_count": 182,
      "outputs": [
        {
          "output_type": "stream",
          "name": "stdout",
          "text": [
            "10\n"
          ]
        }
      ]
    },
    {
      "cell_type": "code",
      "source": [],
      "metadata": {
        "id": "AvN3MKqX9h_V"
      },
      "execution_count": null,
      "outputs": []
    },
    {
      "cell_type": "code",
      "source": [],
      "metadata": {
        "id": "T-ZsASg5yHtk"
      },
      "execution_count": null,
      "outputs": []
    }
  ]
}