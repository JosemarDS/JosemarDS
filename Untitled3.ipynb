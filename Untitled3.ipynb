{
  "nbformat": 4,
  "nbformat_minor": 0,
  "metadata": {
    "colab": {
      "provenance": [],
      "authorship_tag": "ABX9TyO1NnfmXLrDCy85I4Hlc9Wh",
      "include_colab_link": true
    },
    "kernelspec": {
      "name": "python3",
      "display_name": "Python 3"
    },
    "language_info": {
      "name": "python"
    }
  },
  "cells": [
    {
      "cell_type": "markdown",
      "metadata": {
        "id": "view-in-github",
        "colab_type": "text"
      },
      "source": [
        "<a href=\"https://colab.research.google.com/github/JosemarDS/JosemarDS/blob/main/Untitled3.ipynb\" target=\"_parent\"><img src=\"https://colab.research.google.com/assets/colab-badge.svg\" alt=\"Open In Colab\"/></a>"
      ]
    },
    {
      "cell_type": "code",
      "execution_count": null,
      "metadata": {
        "id": "kR2Gbl_Y0HEk"
      },
      "outputs": [],
      "source": [
        "frase = 'Eu jogo a bol'\n",
        "print(frase + input(\"digite uma palavra para completar\"))\n",
        "\n",
        "hora = input('digite a hora')\n",
        "minutos = input('digite os minutos')\n",
        "segundos = input('digite os segundos')\n",
        "print(hora + ':' + minutos + ':' + segundos)\n",
        "\n",
        "cidade = input('código da cidade')\n",
        "celular = input('nº do celular')\n",
        "print('Número de Telefone:', cidade, celular)\n",
        "\n",
        "\n",
        "\n",
        "\n",
        "\n",
        "\n",
        "\n"
      ]
    },
    {
      "cell_type": "code",
      "source": [
        "17"
      ],
      "metadata": {
        "id": "XxTXT-w52C0j"
      },
      "execution_count": null,
      "outputs": []
    }
  ]
}