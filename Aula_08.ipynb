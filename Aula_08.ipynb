{
  "nbformat": 4,
  "nbformat_minor": 0,
  "metadata": {
    "colab": {
      "provenance": [],
      "authorship_tag": "ABX9TyOCabqEAHlDXYw+w6M/G8PZ",
      "include_colab_link": true
    },
    "kernelspec": {
      "name": "python3",
      "display_name": "Python 3"
    },
    "language_info": {
      "name": "python"
    }
  },
  "cells": [
    {
      "cell_type": "markdown",
      "metadata": {
        "id": "view-in-github",
        "colab_type": "text"
      },
      "source": [
        "<a href=\"https://colab.research.google.com/github/JosemarDS/JosemarDS/blob/main/Aula_08.ipynb\" target=\"_parent\"><img src=\"https://colab.research.google.com/assets/colab-badge.svg\" alt=\"Open In Colab\"/></a>"
      ]
    },
    {
      "cell_type": "markdown",
      "source": [
        "TUPLAS\n",
        "\n",
        "Em Python, uma tupla é uma estrutura de dados semelhante a uma lista, mas com uma diferença fundamental: as tuplas são imutáveis. Isso significa que, uma vez que você cria uma tupla, não pode modificar seu conteúdo, adicionar ou remover elementos individualmente. As tuplas são úteis quando você deseja armazenar um conjunto de valores relacionados que não devem ser alterados durante a execução do programa.\n"
      ],
      "metadata": {
        "id": "l98a_NXSr_np"
      }
    },
    {
      "cell_type": "code",
      "execution_count": 11,
      "metadata": {
        "colab": {
          "base_uri": "https://localhost:8080/"
        },
        "id": "rOSDYksRmZov",
        "outputId": "f8c70bea-d2ce-494d-943a-043f6772c924"
      },
      "outputs": [
        {
          "output_type": "stream",
          "name": "stdout",
          "text": [
            "1\n"
          ]
        }
      ],
      "source": [
        "minha_tupla = (1, 2, 3, 4, 5)\n",
        "primeiro_elemento = minha_tupla[0]\n",
        "print(primeiro_elemento)               #Retorna 1\n"
      ]
    },
    {
      "cell_type": "markdown",
      "source": [
        "1. Imutabilidade:\n",
        "Como mencionado anteriormente, as tuplas são imutáveis, o que significa que você não pode alterar seus elementos após a criação. Isso impede que você atribua valores a índices individuais ou use métodos de lista como **`append()`** ou **`remove()`** em uma tupla.\n",
        "2. Comprimento fixo:\n",
        "Quando você cria uma tupla, ela tem um comprimento fixo, que não pode ser alterado posteriormente. Por exemplo, uma tupla com três elementos sempre terá três elementos."
      ],
      "metadata": {
        "id": "dIHhvwGWuvBD"
      }
    },
    {
      "cell_type": "code",
      "source": [
        "minha_tupla = (1, 2, 3)"
      ],
      "metadata": {
        "id": "u_XRvgCgxd0K"
      },
      "execution_count": null,
      "outputs": []
    },
    {
      "cell_type": "markdown",
      "source": [
        "Uso de tuplas:\n",
        "As tuplas são frequentemente usadas quando você deseja representar dados que não devem ser alterados, como coordenadas (x, y), informações sobre uma data (dia, mês, ano) ou até mesmo para retornar múltiplos valores em uma função."
      ],
      "metadata": {
        "id": "tNPWJU-yxj0O"
      }
    },
    {
      "cell_type": "code",
      "source": [
        "def obter_coordenadas():\n",
        "    x = 10\n",
        "    y = 20\n",
        "    return x, y\n",
        "\n",
        "coordenadas = obter_coordenadas()\n",
        "x, y = coordenadas\n",
        "\n",
        ""
      ],
      "metadata": {
        "colab": {
          "base_uri": "https://localhost:8080/",
          "height": 140
        },
        "id": "opCGJ5Raxohf",
        "outputId": "a8bebf5c-f70a-4fb4-a063-dd9ca9485f98"
      },
      "execution_count": 17,
      "outputs": [
        {
          "output_type": "error",
          "ename": "IndentationError",
          "evalue": "ignored",
          "traceback": [
            "\u001b[0;36m  File \u001b[0;32m\"<ipython-input-17-89d476f8add6>\"\u001b[0;36m, line \u001b[0;32m8\u001b[0m\n\u001b[0;31m    print(obter_cordenadas)\u001b[0m\n\u001b[0m    ^\u001b[0m\n\u001b[0;31mIndentationError\u001b[0m\u001b[0;31m:\u001b[0m unexpected indent\n"
          ]
        }
      ]
    },
    {
      "cell_type": "code",
      "source": [],
      "metadata": {
        "id": "8O7hoYUMyW4N"
      },
      "execution_count": null,
      "outputs": []
    },
    {
      "cell_type": "markdown",
      "source": [
        "Métodos de tupla:\n",
        "As tuplas têm alguns métodos embutidos, como\n",
        "\n",
        "count()\n",
        "para contar o número de ocorrências de um elemento e\n",
        "\n",
        "index()\n",
        "para encontrar o índice de um elemento específico na tupla. No entanto, esses métodos não alteram a tupla original."
      ],
      "metadata": {
        "id": "JDCxCa5VwU74"
      }
    },
    {
      "cell_type": "markdown",
      "source": [
        "Em resumo, as tuplas em Python são estruturas de dados imutáveis que permitem armazenar uma coleção ordenada de elementos. Elas são úteis em situações em que você precisa garantir que os dados não sejam alterados acidentalmente e quando deseja representar dados relacionados que não mudam."
      ],
      "metadata": {
        "id": "tvG2AXobyuTM"
      }
    },
    {
      "cell_type": "markdown",
      "source": [
        "#TUPLAS EM PYTHON\n",
        "\n",
        "dir(tuple)\n",
        "\n",
        "dir(list)"
      ],
      "metadata": {
        "id": "qL9cnevVy_Aq"
      }
    },
    {
      "cell_type": "markdown",
      "source": [
        "CONSTANTES EM PYTHON:\n",
        "A LINGUAGEM PYTHON NÃO POSSUE UMA NOMECLATURA PARA CONSTANTES.\n",
        "O CORRETO É DECLARAR COM LETRAS MAIUSCULAS\n",
        "\n",
        "NUMERO = 10\n",
        "\n",
        "NUMERO2 = 20\n",
        "\n",
        "TUPLAS POSSUEM O MESMO SENTIDO DE CONSTANTES EM PYTHON\n",
        "Podemos usar o dir para acessar as possibilidades das Tuplas"
      ],
      "metadata": {
        "id": "xb1itSo-zK4z"
      }
    },
    {
      "cell_type": "code",
      "source": [
        "#Acessando Tuplas:\n",
        "tupla = (12,23,45)\n",
        "for n in tupla:\n",
        "  print(n)"
      ],
      "metadata": {
        "colab": {
          "base_uri": "https://localhost:8080/"
        },
        "id": "Nq0WSuTozOdL",
        "outputId": "01ee89cc-4c36-4f5c-98f0-f99cbcb51539"
      },
      "execution_count": 18,
      "outputs": [
        {
          "output_type": "stream",
          "name": "stdout",
          "text": [
            "12\n",
            "23\n",
            "45\n"
          ]
        }
      ]
    },
    {
      "cell_type": "code",
      "source": [
        "#CONVERTENDO UMA TUPLAS EM LISTA:\n",
        "tupla2 = (25,6,89,45)\n",
        "n = list(tupla2)\n",
        "print(n)"
      ],
      "metadata": {
        "colab": {
          "base_uri": "https://localhost:8080/"
        },
        "id": "xV22FlJoz5OD",
        "outputId": "a295d581-a319-4574-813d-e78d8b86740a"
      },
      "execution_count": 19,
      "outputs": [
        {
          "output_type": "stream",
          "name": "stdout",
          "text": [
            "[25, 6, 89, 45]\n"
          ]
        }
      ]
    },
    {
      "cell_type": "code",
      "source": [
        "#IMPRIMIR UMA TUPLA:\n",
        "tupla3 = (2,3,6,9)\n",
        "print(tupla3)"
      ],
      "metadata": {
        "colab": {
          "base_uri": "https://localhost:8080/"
        },
        "id": "_Cyc8udP0U1p",
        "outputId": "07c0cf95-7a3f-4ea5-e38b-55a15fbcb628"
      },
      "execution_count": 20,
      "outputs": [
        {
          "output_type": "stream",
          "name": "stdout",
          "text": [
            "(2, 3, 6, 9)\n"
          ]
        }
      ]
    },
    {
      "cell_type": "code",
      "source": [
        "#CONVERTENDO UMA LISTA EM UMA TUPLA:\n",
        "lista1 = [1,23,4,5]\n",
        "i = tuple(lista1)\n",
        "print(i)\n"
      ],
      "metadata": {
        "colab": {
          "base_uri": "https://localhost:8080/"
        },
        "id": "qoUTEhnW0j5B",
        "outputId": "cf181bb3-154f-4388-a76c-ed5140853375"
      },
      "execution_count": 21,
      "outputs": [
        {
          "output_type": "stream",
          "name": "stdout",
          "text": [
            "(1, 23, 4, 5)\n"
          ]
        }
      ]
    },
    {
      "cell_type": "code",
      "source": [
        "#DESEMPACOTAR ELEMENTOS DA LISTA:\n",
        "lista2 = [1,3]\n",
        "x, y = lista2\n",
        "print('Coordenada 1', x)\n",
        "print('Coordenada 2', y)"
      ],
      "metadata": {
        "colab": {
          "base_uri": "https://localhost:8080/"
        },
        "id": "B_Ee5fy208No",
        "outputId": "967a02f5-cfdc-4152-fe67-b137e166f92a"
      },
      "execution_count": 23,
      "outputs": [
        {
          "output_type": "stream",
          "name": "stdout",
          "text": [
            "Coordenada 1 1\n",
            "Coordenada 2 3\n"
          ]
        }
      ]
    },
    {
      "cell_type": "code",
      "source": [
        "#Exercícios:\n"
      ],
      "metadata": {
        "id": "SxtB9wyS1lj_"
      },
      "execution_count": null,
      "outputs": []
    },
    {
      "cell_type": "markdown",
      "source": [
        "1 -  Crie uma tupla chamada frutas com pelo menos 5 frutas diferentes. Em seguida, acesse e imprima o terceiro elemento da tupla."
      ],
      "metadata": {
        "id": "6py796kw10wG"
      }
    },
    {
      "cell_type": "code",
      "source": [
        "tupla_frutas = ['malão', 'morango', 'cajú', 'mamão', 'manga']\n",
        "terceiro_elemento = tupla_frutas[3]\n",
        "print(terceiro_elemento)"
      ],
      "metadata": {
        "colab": {
          "base_uri": "https://localhost:8080/"
        },
        "id": "wYt_z0fw14x-",
        "outputId": "83d30c4e-a282-41ad-e87a-22b2b91f6a4f"
      },
      "execution_count": 31,
      "outputs": [
        {
          "output_type": "stream",
          "name": "stdout",
          "text": [
            "mamão\n"
          ]
        }
      ]
    },
    {
      "cell_type": "markdown",
      "source": [
        "2 - Crie uma tupla chamada numeros com alguns números inteiros. Em seguida, converta essa tupla em uma lista e imprima a lista resultante."
      ],
      "metadata": {
        "id": "tS2jJgzR3Jfz"
      }
    },
    {
      "cell_type": "code",
      "source": [
        "numeros = [1,2,3,4,5]\n",
        "i = tuple(numeros)\n",
        "print(i)"
      ],
      "metadata": {
        "colab": {
          "base_uri": "https://localhost:8080/"
        },
        "id": "AZEQ8m8H3Imf",
        "outputId": "6e81fd25-ccd7-4336-f4c6-99671f238324"
      },
      "execution_count": 30,
      "outputs": [
        {
          "output_type": "stream",
          "name": "stdout",
          "text": [
            "(1, 2, 3, 4, 5)\n"
          ]
        }
      ]
    },
    {
      "cell_type": "code",
      "source": [],
      "metadata": {
        "id": "1egmgGmM3on0"
      },
      "execution_count": null,
      "outputs": []
    },
    {
      "cell_type": "markdown",
      "source": [
        "3 - Crie uma tupla chamada meses com os nomes dos meses do ano até Setembro. Use um loop for para imprimir cada mês em uma linha separada."
      ],
      "metadata": {
        "id": "EK875X2J3pUa"
      }
    },
    {
      "cell_type": "code",
      "source": [
        "meses = ['Janeiro', 'Fevereiro', 'Março', 'Abril', 'Maio', 'Junho', 'Julho', 'Agosto', 'Setembro']\n",
        "for n in meses:\n",
        "  print(n)"
      ],
      "metadata": {
        "colab": {
          "base_uri": "https://localhost:8080/"
        },
        "id": "mBbpDE8Q3siC",
        "outputId": "c0978738-b3e2-46e3-868d-a75d7ec4b42b"
      },
      "execution_count": 33,
      "outputs": [
        {
          "output_type": "stream",
          "name": "stdout",
          "text": [
            "Janeiro\n",
            "Fevereiro\n",
            "Março\n",
            "Abril\n",
            "Maio\n",
            "Junho\n",
            "Julho\n",
            "Agosto\n",
            "Setembro\n"
          ]
        }
      ]
    },
    {
      "cell_type": "code",
      "source": [],
      "metadata": {
        "id": "cGUGtD-V4VmL"
      },
      "execution_count": null,
      "outputs": []
    },
    {
      "cell_type": "markdown",
      "source": [
        "4 - Crie uma lista chamada notas com algumas notas de alunos. Em seguida, converta essa lista em uma tupla e imprima a tupla resultante."
      ],
      "metadata": {
        "id": "Nsg51Kvw4WIp"
      }
    },
    {
      "cell_type": "code",
      "source": [
        "notas = [10,9,6,8,4]\n",
        "i = tuple(notas)\n",
        "print(i)"
      ],
      "metadata": {
        "colab": {
          "base_uri": "https://localhost:8080/"
        },
        "id": "ETI6sW-R4ZwA",
        "outputId": "4660d3e6-89a8-4b69-a108-e76dc1f94019"
      },
      "execution_count": 34,
      "outputs": [
        {
          "output_type": "stream",
          "name": "stdout",
          "text": [
            "(10, 9, 6, 8, 4)\n"
          ]
        }
      ]
    },
    {
      "cell_type": "code",
      "source": [],
      "metadata": {
        "id": "jgGGhZQp477L"
      },
      "execution_count": null,
      "outputs": []
    },
    {
      "cell_type": "markdown",
      "source": [
        "5 - Crie uma lista chamada ponto que represente as coordenadas (x, y) de um ponto. Em seguida, desempacote os elementos da lista em duas variáveis separadas (x e y) e imprima os valores."
      ],
      "metadata": {
        "id": "G9RqPjho48sw"
      }
    },
    {
      "cell_type": "code",
      "source": [
        "ponto = [9,4]\n",
        "x, y = ponto\n",
        "print('Coordenada x', x)\n",
        "print('Coordenada y', y)"
      ],
      "metadata": {
        "colab": {
          "base_uri": "https://localhost:8080/"
        },
        "id": "XwQLDdkz5CGI",
        "outputId": "9a834bc8-cad2-4b9b-fb45-90307dd58c2d"
      },
      "execution_count": 37,
      "outputs": [
        {
          "output_type": "stream",
          "name": "stdout",
          "text": [
            "Coordenada x 9\n",
            "Coordenada y 4\n"
          ]
        }
      ]
    }
  ]
}